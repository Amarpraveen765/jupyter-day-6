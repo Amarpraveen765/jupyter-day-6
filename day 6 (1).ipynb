{
 "cells": [
  {
   "cell_type": "code",
   "execution_count": 2,
   "metadata": {},
   "outputs": [
    {
     "name": "stdout",
     "output_type": "stream",
     "text": [
      "enter a number2\n",
      "enter a number1\n",
      "enter a number0\n",
      "2 is greatest\n"
     ]
    }
   ],
   "source": [
    "# to check the greatest number\n",
    "a = int(input(\"enter a number\"))\n",
    "b = int(input(\"enter a number\"))\n",
    "c = int(input(\"enter a number\"))\n",
    "if (a>b) and (a>c):\n",
    "    print (a,\"is greatest\")\n",
    "elif (b>a) and (b>c):\n",
    "    print (b,\"is greatest\")\n",
    "if (c>b) and (c>a):\n",
    "    print (c,\"is greatest\")\n"
   ]
  },
  {
   "cell_type": "code",
   "execution_count": 6,
   "metadata": {},
   "outputs": [
    {
     "name": "stdout",
     "output_type": "stream",
     "text": [
      "enter the year2004\n",
      "it is a leap year\n"
     ]
    }
   ],
   "source": [
    "# to check if given year is leap year or not\n",
    "y = int(input(\"enter the year\"))\n",
    "if (y%4==0) and (y%100!=0):\n",
    "    print (\"it is a leap year\")\n",
    "else:\n",
    "    print (\"it is not a leap year\")"
   ]
  },
  {
   "cell_type": "markdown",
   "metadata": {},
   "source": [
    "## while loop"
   ]
  },
  {
   "cell_type": "code",
   "execution_count": 12,
   "metadata": {},
   "outputs": [
    {
     "name": "stdout",
     "output_type": "stream",
     "text": [
      "gitam\n",
      "gitam\n",
      "gitam\n",
      "gitam\n",
      "gitam\n",
      "\n",
      "or using while loop \n",
      "enter how many time u want to print ==\t6\n",
      "gitam\n",
      "gitam\n",
      "gitam\n",
      "gitam\n",
      "gitam\n",
      "gitam\n"
     ]
    }
   ],
   "source": [
    "# print gitam 5 times \n",
    "print(\"gitam\")\n",
    "print(\"gitam\")\n",
    "print(\"gitam\")\n",
    "print(\"gitam\")\n",
    "print(\"gitam\")\n",
    "print(\"\\nor using while loop \")\n",
    "a=0\n",
    "n = int(input(\"enter how many time u want to print ==\\t\"))\n",
    "while a < n :\n",
    "    print(\"gitam\")\n",
    "    a=a+1\n"
   ]
  },
  {
   "cell_type": "code",
   "execution_count": 17,
   "metadata": {},
   "outputs": [
    {
     "name": "stdout",
     "output_type": "stream",
     "text": [
      "enter the end number==\t10\n",
      "1 2 3 4 5 6 7 8 9 "
     ]
    }
   ],
   "source": [
    "# print N natural numbers using while loop\n",
    "a=1\n",
    "n = int(input(\"enter the end number==\\t\"))\n",
    "while a < n :\n",
    "    print(a,end = \" \")\n",
    "    a=a+1"
   ]
  },
  {
   "cell_type": "code",
   "execution_count": 24,
   "metadata": {},
   "outputs": [
    {
     "name": "stdout",
     "output_type": "stream",
     "text": [
      "enter the end number==\t10\n",
      "0 2 4 6 8 10 \n",
      "sum of even numbers is = 30\n"
     ]
    }
   ],
   "source": [
    "# adding of even number from 1\n",
    "a = 0\n",
    "s = 0 \n",
    "n = int(input(\"enter the end number==\\t\"))\n",
    "while a <=n:\n",
    "    print(a,end=\" \")\n",
    "    s = s + a\n",
    "    a=a+2\n",
    "print(\"\\nsum of even numbers is =\",s)    "
   ]
  },
  {
   "cell_type": "code",
   "execution_count": 32,
   "metadata": {},
   "outputs": [
    {
     "name": "stdout",
     "output_type": "stream",
     "text": [
      "enter a number ==\t123\n",
      "123 \n",
      " 321\n"
     ]
    }
   ],
   "source": [
    "# given number is -- 123\n",
    "# print the given number like -- 321\n",
    "a = int(input(\"enter a number ==\\t\"))\n",
    "b = a\n",
    "s = 0\n",
    "c=0\n",
    "while a != 0:\n",
    "    c= a % 10\n",
    "    s= c + (s*10)\n",
    "    a= a // 10\n",
    "print(b,\"\\n\",s)    \n"
   ]
  },
  {
   "cell_type": "markdown",
   "metadata": {},
   "source": [
    "## functional programming\n",
    "* simple\n",
    "* easy read\n",
    "* Lengthy program divides into sub programs"
   ]
  },
  {
   "cell_type": "raw",
   "metadata": {},
   "source": [
    "def name of the function(<parameters>):\n",
    "    statements\n",
    "    return"
   ]
  },
  {
   "cell_type": "code",
   "execution_count": 34,
   "metadata": {},
   "outputs": [
    {
     "name": "stdout",
     "output_type": "stream",
     "text": [
      "enter end number10\n",
      "30\n"
     ]
    }
   ],
   "source": [
    "# sum of even numbers\n",
    "def sumofeven(n):\n",
    "    i=0\n",
    "    sum=0\n",
    "    while i<n:\n",
    "        i=i+1\n",
    "        if (i%2==0):\n",
    "            sum=sum + i\n",
    "    return(sum)\n",
    "k=int(input(\"enter end number\"))\n",
    "l= sumofeven(k)\n",
    "print(l)"
   ]
  },
  {
   "cell_type": "code",
   "execution_count": 3,
   "metadata": {},
   "outputs": [
    {
     "name": "stdout",
     "output_type": "stream",
     "text": [
      "0\n"
     ]
    }
   ],
   "source": [
    "# read a number --1234\n",
    "#Output --6 (2+4)\n",
    "def addEvenDigits(n):\n",
    "    sum=0\n",
    "    while n!= 0:\n",
    "        r=n%10\n",
    "        if r%10 ==0:\n",
    "            sum=sum+r\n",
    "        n=n//10\n",
    "    print(sum)    \n",
    "    return\n",
    "addEvenDigits(1234)"
   ]
  },
  {
   "cell_type": "code",
   "execution_count": 9,
   "metadata": {},
   "outputs": [
    {
     "data": {
      "text/plain": [
       "0"
      ]
     },
     "execution_count": 9,
     "metadata": {},
     "output_type": "execute_result"
    }
   ],
   "source": [
    "# read a number --1234\n",
    "#Output --6 (2+4)\n",
    "def addEvenDigits(n):\n",
    "    s=0\n",
    "    while n!= 0:\n",
    "        r=n%10\n",
    "        if r%10 ==0:\n",
    "            s=s+r\n",
    "        n=n//10  \n",
    "    return s\n",
    "addEvenDigits(1234)"
   ]
  },
  {
   "cell_type": "code",
   "execution_count": 7,
   "metadata": {},
   "outputs": [
    {
     "data": {
      "text/plain": [
       "9"
      ]
     },
     "execution_count": 7,
     "metadata": {},
     "output_type": "execute_result"
    }
   ],
   "source": [
    "# read a number -- 19528\n",
    "# print the large digit print the number\n",
    "def printlarge(n):\n",
    "    large = 0\n",
    "    while n != 0:\n",
    "        r = n%10\n",
    "        if large < r:\n",
    "            large =r\n",
    "        n = n// 10\n",
    "    return large\n",
    "printlarge(19528)\n",
    "            "
   ]
  },
  {
   "cell_type": "code",
   "execution_count": 6,
   "metadata": {},
   "outputs": [
    {
     "name": "stdout",
     "output_type": "stream",
     "text": [
      "enter a number ==\t123\n"
     ]
    },
    {
     "data": {
      "text/plain": [
       "321"
      ]
     },
     "execution_count": 6,
     "metadata": {},
     "output_type": "execute_result"
    }
   ],
   "source": [
    "# read the number input\n",
    "# Output reverse of the given number\n",
    "# 123 - 321\n",
    "def reverseNumber(n):\n",
    "    a = int(input(\"enter a number ==\\t\"))\n",
    "    b = a\n",
    "    s = 0\n",
    "    c=0\n",
    "    while a != 0:\n",
    "        c= a % 10\n",
    "        s= c + (s*10)\n",
    "        a= a // 10\n",
    "    return s\n",
    "reverseNumber(123)         "
   ]
  },
  {
   "cell_type": "code",
   "execution_count": 10,
   "metadata": {},
   "outputs": [
    {
     "name": "stdout",
     "output_type": "stream",
     "text": [
      "No\n",
      "Yes\n"
     ]
    }
   ],
   "source": [
    " # given number is palendrome or not\n",
    "# input\n",
    "# 123 -- 321 No\n",
    "# 121 -- 121 Yes\n",
    "def palindrome(n):\n",
    "    rev = 0\n",
    "    buffer = n\n",
    "    while n != 0:\n",
    "        r =n%10\n",
    "        rev = rev * 10 +r\n",
    "        n = n // 10\n",
    "    if buffer == rev:\n",
    "        return \"Yes\"\n",
    "    else:\n",
    "        return \"No\"\n",
    "    \n",
    "print(palindrome(123))\n",
    "print(palindrome(121))\n"
   ]
  },
  {
   "cell_type": "code",
   "execution_count": 11,
   "metadata": {},
   "outputs": [
    {
     "name": "stdout",
     "output_type": "stream",
     "text": [
      "1 2 3 4 5 6 7 8 9 10 "
     ]
    }
   ],
   "source": [
    "# function to print N natural Numbers\n",
    "def NNaturalNumbers(n):\n",
    "    for x in range(1,n+1):\n",
    "        print(x,end=\" \")\n",
    "    return    \n",
    "NNaturalNumbers(10)"
   ]
  },
  {
   "cell_type": "code",
   "execution_count": 13,
   "metadata": {},
   "outputs": [
    {
     "name": "stdout",
     "output_type": "stream",
     "text": [
      "11 12 13 14 15 16 17 18 19 20 21 22 23 24 25 "
     ]
    }
   ],
   "source": [
    "# function to print two numbers bitween two limits\n",
    "# input: 11,25\n",
    "# Output: 11,12,13...25\n",
    "def printseries(lb,ub):\n",
    "    for x in range(lb,ub+1):\n",
    "        print(x,end=\" \")\n",
    "    return    \n",
    "printseries(11,25)"
   ]
  },
  {
   "cell_type": "code",
   "execution_count": 15,
   "metadata": {},
   "outputs": [
    {
     "name": "stdout",
     "output_type": "stream",
     "text": [
      "500 504 508 512 516 520 \n",
      "\n",
      "100 104 108 112 116 120 124 128 132 136 140 144 148 "
     ]
    }
   ],
   "source": [
    "# function to print alternate number\n",
    "# [500,520] -- 500 502 504 506..... 520\n",
    "# [100,150] -- 100 102 104 106 ..150\n",
    "def alternateNumbers(lb,ub):\n",
    "    for x in range(lb,ub+1,4):\n",
    "        print(x,end=\" \")\n",
    "    return    \n",
    "alternateNumbers(500,520)\n",
    "print(\"\\n\")\n",
    "alternateNumbers(100,150)        "
   ]
  },
  {
   "cell_type": "code",
   "execution_count": 18,
   "metadata": {},
   "outputs": [
    {
     "name": "stdout",
     "output_type": "stream",
     "text": [
      "10 9 8 7 6 5 4 3 2 1 "
     ]
    }
   ],
   "source": [
    "# function to print the serice in reverse\n",
    "# input 1,10\n",
    "# Output: 10,9,8,7....1\n",
    "def reverserange(start,end):\n",
    "    for x in range(end,start-1,-1):\n",
    "        print(x,end=\" \")\n",
    "    return\n",
    "reverserange(1,10)"
   ]
  }
 ],
 "metadata": {
  "kernelspec": {
   "display_name": "Python 3",
   "language": "python",
   "name": "python3"
  },
  "language_info": {
   "codemirror_mode": {
    "name": "ipython",
    "version": 3
   },
   "file_extension": ".py",
   "mimetype": "text/x-python",
   "name": "python",
   "nbconvert_exporter": "python",
   "pygments_lexer": "ipython3",
   "version": "3.7.3"
  }
 },
 "nbformat": 4,
 "nbformat_minor": 2
}
